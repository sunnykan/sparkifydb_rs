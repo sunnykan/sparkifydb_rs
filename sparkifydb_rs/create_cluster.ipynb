{
 "cells": [
  {
   "cell_type": "markdown",
   "metadata": {
    "editable": true
   },
   "source": [
    "### Run the notebook to:\n",
    "\n",
    "- To create a cluster and connect to it\n",
    "- To obtain information on endpoint (host) and amazon resource name (arn)\n",
    "- To delete cluster"
   ]
  },
  {
   "cell_type": "code",
   "execution_count": 1,
   "metadata": {
    "editable": true
   },
   "outputs": [],
   "source": [
    "import pandas as pd\n",
    "import boto3\n",
    "import time\n",
    "import json\n",
    "import psycopg2\n",
    "import configparser\n",
    "from botocore.exceptions import ClientError"
   ]
  },
  {
   "cell_type": "code",
   "execution_count": 2,
   "metadata": {
    "editable": true
   },
   "outputs": [],
   "source": [
    "# Load DWH Params from a file\n",
    "config = configparser.ConfigParser()\n",
    "config.read_file(open(\"dwh.cfg\"))\n",
    "\n",
    "KEY = config.get(\"AWS\", \"KEY\")\n",
    "SECRET = config.get(\"AWS\", \"SECRET\")\n",
    "\n",
    "DWH_CLUSTER_TYPE = config.get(\"DWH\", \"DWH_CLUSTER_TYPE\")\n",
    "DWH_NUM_NODES = config.get(\"DWH\", \"DWH_NUM_NODES\")\n",
    "DWH_NODE_TYPE = config.get(\"DWH\", \"DWH_NODE_TYPE\")\n",
    "\n",
    "DWH_CLUSTER_IDENTIFIER = config.get(\"DWH\", \"DWH_CLUSTER_IDENTIFIER\")\n",
    "DWH_DB = config.get(\"DWH\", \"DWH_DB\")\n",
    "DWH_DB_USER = config.get(\"DWH\", \"DWH_DB_USER\")\n",
    "DWH_DB_PASSWORD = config.get(\"DWH\", \"DWH_DB_PASSWORD\")\n",
    "DWH_PORT = config.get(\"DWH\", \"DWH_PORT\")\n",
    "\n",
    "DWH_IAM_ROLE_NAME = config.get(\"DWH\", \"DWH_IAM_ROLE_NAME\")"
   ]
  },
  {
   "cell_type": "code",
   "execution_count": 3,
   "metadata": {
    "editable": true
   },
   "outputs": [],
   "source": [
    "# Create clients for IAM, EC2, S3 and Redshift\n",
    "def create_clients():\n",
    "    ec2 = boto3.resource(\n",
    "        \"ec2\",\n",
    "        region_name=\"us-west-2\",\n",
    "        aws_access_key_id=KEY,\n",
    "        aws_secret_access_key=SECRET,\n",
    "    )\n",
    "\n",
    "    s3 = boto3.resource(\n",
    "        \"s3\",\n",
    "        region_name=\"us-west-2\",\n",
    "        aws_access_key_id=KEY,\n",
    "        aws_secret_access_key=SECRET,\n",
    "    )\n",
    "\n",
    "    iam = boto3.client(\n",
    "        \"iam\",\n",
    "        aws_access_key_id=KEY,\n",
    "        aws_secret_access_key=SECRET,\n",
    "        region_name=\"us-west-2\",\n",
    "    )\n",
    "\n",
    "    redshift = boto3.client(\n",
    "        \"redshift\",\n",
    "        region_name=\"us-west-2\",\n",
    "        aws_access_key_id=KEY,\n",
    "        aws_secret_access_key=SECRET,\n",
    "    )\n",
    "\n",
    "    return ec2, s3, iam, redshift"
   ]
  },
  {
   "cell_type": "code",
   "execution_count": 4,
   "metadata": {
    "editable": true
   },
   "outputs": [],
   "source": [
    "# Create a role with administrative privileges in order to access S3\n",
    "def create_role(iam):\n",
    "    print(\"Creating role...\")\n",
    "    try:\n",
    "        print(\"1.1 Creating a new IAM Role\")\n",
    "        dwhRole = iam.create_role(\n",
    "            Path=\"/\",\n",
    "            RoleName=DWH_IAM_ROLE_NAME,\n",
    "            Description=\"Allows Redshift clusters to call AWS services on your behalf.\",\n",
    "            AssumeRolePolicyDocument=json.dumps(\n",
    "                {\n",
    "                    \"Statement\": [\n",
    "                        {\n",
    "                            \"Action\": \"sts:AssumeRole\",\n",
    "                            \"Effect\": \"Allow\",\n",
    "                            \"Principal\": {\"Service\": \"redshift.amazonaws.com\"},\n",
    "                        }\n",
    "                    ],\n",
    "                    \"Version\": \"2012-10-17\",\n",
    "                }\n",
    "            ),\n",
    "        )\n",
    "    except Exception as e:\n",
    "        print(e)\n",
    "\n",
    "    print(\"1.2 Attaching Policy\")\n",
    "\n",
    "    iam.attach_role_policy(\n",
    "        RoleName=DWH_IAM_ROLE_NAME,\n",
    "        PolicyArn=\"arn:aws:iam::aws:policy/AmazonS3ReadOnlyAccess\",\n",
    "    )[\"ResponseMetadata\"][\"HTTPStatusCode\"]\n",
    "\n",
    "    print(\"1.3 Get the IAM role ARN\")\n",
    "    roleArn = iam.get_role(RoleName=DWH_IAM_ROLE_NAME)[\"Role\"][\"Arn\"]\n",
    "\n",
    "    return roleArn"
   ]
  },
  {
   "cell_type": "code",
   "execution_count": 5,
   "metadata": {
    "editable": true
   },
   "outputs": [],
   "source": [
    "def delete_role(iam):\n",
    "    print(\"Deleting role...\")\n",
    "    iam.detach_role_policy(\n",
    "        RoleName=DWH_IAM_ROLE_NAME,\n",
    "        PolicyArn=\"arn:aws:iam::aws:policy/AmazonS3ReadOnlyAccess\",\n",
    "    )\n",
    "    iam.delete_role(RoleName=DWH_IAM_ROLE_NAME)"
   ]
  },
  {
   "cell_type": "code",
   "execution_count": 8,
   "metadata": {
    "editable": true
   },
   "outputs": [],
   "source": [
    "# Ensure global access to port\n",
    "def _open_tcp_port(ec2, myClusterProps):\n",
    "    try:\n",
    "        vpc = ec2.Vpc(id=myClusterProps[\"VpcId\"])\n",
    "        defaultSg = list(vpc.security_groups.all())[0]\n",
    "        print(defaultSg)\n",
    "        defaultSg.authorize_ingress(\n",
    "            GroupName=defaultSg.group_name,\n",
    "            CidrIp=\"0.0.0.0/0\",\n",
    "            IpProtocol=\"TCP\",\n",
    "            FromPort=int(DWH_PORT),\n",
    "            ToPort=int(DWH_PORT),\n",
    "        )\n",
    "    except ClientError as e:\n",
    "        code = e.response[\"Error\"][\"Code\"]\n",
    "        print(code)"
   ]
  },
  {
   "cell_type": "code",
   "execution_count": 6,
   "metadata": {
    "editable": true
   },
   "outputs": [],
   "source": [
    "def create_cluster(redshift, roleArn):\n",
    "    print(\"Creating cluster...\")\n",
    "    try:\n",
    "        response = redshift.create_cluster(\n",
    "            # HW\n",
    "            ClusterType=DWH_CLUSTER_TYPE,\n",
    "            NodeType=DWH_NODE_TYPE,\n",
    "            NumberOfNodes=int(DWH_NUM_NODES),\n",
    "            # Identifiers & Credentials\n",
    "            DBName=DWH_DB,\n",
    "            ClusterIdentifier=DWH_CLUSTER_IDENTIFIER,\n",
    "            MasterUsername=DWH_DB_USER,\n",
    "            MasterUserPassword=DWH_DB_PASSWORD,\n",
    "            # Roles (for s3 access)\n",
    "            IamRoles=[roleArn],\n",
    "        )\n",
    "    except Exception as e:\n",
    "        print(e)\n",
    "\n",
    "    while (\n",
    "        redshift.describe_clusters(ClusterIdentifier=DWH_CLUSTER_IDENTIFIER)[\n",
    "            \"Clusters\"\n",
    "        ][0][\"ClusterStatus\"]\n",
    "        != \"available\"\n",
    "    ):\n",
    "        time.sleep(5)\n",
    "\n",
    "    myClusterProps = redshift.describe_clusters(\n",
    "        ClusterIdentifier=DWH_CLUSTER_IDENTIFIER\n",
    "    )[\"Clusters\"][0]\n",
    "\n",
    "    return myClusterProps"
   ]
  },
  {
   "cell_type": "code",
   "execution_count": 7,
   "metadata": {
    "editable": true
   },
   "outputs": [],
   "source": [
    "def delete_cluster(redshift):\n",
    "    print(\"Deleting cluster...\")\n",
    "    try:\n",
    "        redshift.delete_cluster(\n",
    "            ClusterIdentifier=DWH_CLUSTER_IDENTIFIER, SkipFinalClusterSnapshot=True\n",
    "        )\n",
    "        print(\n",
    "            redshift.describe_clusters(ClusterIdentifier=DWH_CLUSTER_IDENTIFIER)[\n",
    "                \"Clusters\"\n",
    "            ][0][\"ClusterStatus\"]\n",
    "        )\n",
    "    except redshift.exceptions.ClusterNotFoundFault as e:\n",
    "        print(e)\n"
   ]
  },
  {
   "cell_type": "code",
   "execution_count": 13,
   "metadata": {
    "editable": true
   },
   "outputs": [],
   "source": [
    "def clean_up(iam, redshift):\n",
    "    \n",
    "    delete_role(iam)\n",
    "    delete_cluster(redshift)"
   ]
  },
  {
   "cell_type": "markdown",
   "metadata": {
    "editable": true
   },
   "source": [
    "### Create cluster and connect to it"
   ]
  },
  {
   "cell_type": "code",
   "execution_count": 12,
   "metadata": {
    "editable": true
   },
   "outputs": [],
   "source": [
    "def connect_cluster():\n",
    "\n",
    "    ec2, s3, iam, redshift = create_clients()\n",
    "    if iam.get_role(RoleName=DWH_IAM_ROLE_NAME):\n",
    "        delete_role(iam)\n",
    "    else:\n",
    "        roleArn = create_role(iam)\n",
    "\n",
    "    myClusterProps = create_cluster(redshift, roleArn)\n",
    "    DWH_ENDPOINT = myClusterProps[\"Endpoint\"][\"Address\"]\n",
    "    DWH_ROLE_ARN = myClusterProps[\"IamRoles\"][0][\"IamRoleArn\"]\n",
    "\n",
    "    if not myClusterProps[\"PubliclyAccessible\"]:\n",
    "        _open_tcp_port(ec2, myClusterProps)\n",
    "\n",
    "    print(f\"endpoint: {DWH_ENDPOINT}, role_arn: {DWH_ROLE_ARN}\")\n",
    "    print(\"Cluster is ready!\")\n",
    "    \n",
    "    return iam, redshift"
   ]
  },
  {
   "cell_type": "code",
   "execution_count": 14,
   "metadata": {
    "editable": true
   },
   "outputs": [
    {
     "name": "stdout",
     "output_type": "stream",
     "text": [
      "Creating role...\n",
      "1.1 Creating a new IAM Role\n",
      "1.2 Attaching Policy\n",
      "1.3 Get the IAM role ARN\n",
      "Creating cluster...\n",
      "endpoint: dwhcluster.ciy1amcwnctk.us-west-2.redshift.amazonaws.com, role_arn: arn:aws:iam::912348561596:role/dwhRole\n",
      "Cluster is ready!\n"
     ]
    }
   ],
   "source": [
    "# Uncomment to connect to cluster\n",
    "\n",
    "iam, redshift = connect_cluster()"
   ]
  },
  {
   "cell_type": "markdown",
   "metadata": {
    "editable": true
   },
   "source": [
    "##### Copy the above endpoint and role values into the DWH_HOST and ARN fields, respectively in the dfw.cfg file\n",
    "\n",
    "[DWH] \n",
    "DWH_HOST=\n",
    "\n",
    "[IAM_ROLE]\n",
    "ARN="
   ]
  },
  {
   "cell_type": "markdown",
   "metadata": {
    "editable": true
   },
   "source": [
    "### Clean up: Delete cluster and role\n",
    "\n",
    "Uncomment line below to delete role and cluster"
   ]
  },
  {
   "cell_type": "code",
   "execution_count": 20,
   "metadata": {
    "editable": true
   },
   "outputs": [],
   "source": [
    "# Uncomment line below to delete role and cluster\n",
    "\n",
    "#clean_up(iam, redshift)"
   ]
  },
  {
   "cell_type": "code",
   "execution_count": null,
   "metadata": {
    "editable": true
   },
   "outputs": [],
   "source": []
  }
 ],
 "metadata": {
  "kernelspec": {
   "display_name": "Python 3",
   "language": "python",
   "name": "python3"
  },
  "language_info": {
   "codemirror_mode": {
    "name": "ipython",
    "version": 3
   },
   "file_extension": ".py",
   "mimetype": "text/x-python",
   "name": "python",
   "nbconvert_exporter": "python",
   "pygments_lexer": "ipython3",
   "version": "3.6.3"
  }
 },
 "nbformat": 4,
 "nbformat_minor": 5
}
